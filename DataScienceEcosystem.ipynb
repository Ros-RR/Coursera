{
 "cells": [
  {
   "cell_type": "markdown",
   "id": "2615e014-73fe-46f1-89ec-bb8a6956c9b8",
   "metadata": {},
   "source": [
    "# Data Science Tools and Ecosystem"
   ]
  },
  {
   "cell_type": "markdown",
   "id": "dc443556-5742-45b5-b383-31b62f933428",
   "metadata": {},
   "source": [
    "En este cuaderno, se resumen las herramientas y ecosistemas de ciencia de datos."
   ]
  },
  {
   "cell_type": "markdown",
   "id": "99efc18c-a993-4394-95e5-42a46fed5e49",
   "metadata": {},
   "source": [
    "**Objetivos:**\n",
    "* Lenguajes más utilizados\n",
    "* Bibliotecas más usadas\n",
    "* Herrmientas de código abierto\n",
    "* Expresiones aritméticas"
   ]
  },
  {
   "cell_type": "markdown",
   "id": "ea3d978b-e631-41fc-b38c-3cdfc477a4e7",
   "metadata": {},
   "source": [
    "**Algunos de los lenguajes más populares que utilizan los científicos de datos son:** \n",
    "1. R / R Studio\n",
    "2. Python\n",
    "3. SQL\n",
    "4. Julia\n",
    "5. Java\n",
    "6. Scala"
   ]
  },
  {
   "cell_type": "markdown",
   "id": "62b74a67-6e8a-4355-b2b7-5b4a365234fe",
   "metadata": {},
   "source": [
    "**Algunas de las bibliotecas comúnmente utilizadas por los científicos de datos son:** \n",
    "1. Manipulación y Análisis de datos: *Pandas - NumPy*\n",
    "2. Visualización: *Matplotlib - Plotly - Ggplot*\n",
    "3. ML & DL: *XGBoost - LM - Caret*"
   ]
  },
  {
   "cell_type": "markdown",
   "id": "2661d17e-1b62-4da5-9c46-3177ec8cd6f7",
   "metadata": {},
   "source": [
    "|Herramientas de Ciencias de Datos|\n",
    "|--------|\n",
    "|R|\n",
    "|Python|\n",
    "|Jupyter|"
   ]
  },
  {
   "cell_type": "markdown",
   "id": "38186d51-fe14-402d-946e-43d6a6e30c55",
   "metadata": {},
   "source": [
    "### A continuación, se presentan algunos ejemplos de evaluación de expresiones aritméticas en Python:"
   ]
  },
  {
   "cell_type": "code",
   "execution_count": 10,
   "id": "75880ba4-d1a9-46cc-84bc-d7e923900c87",
   "metadata": {},
   "outputs": [
    {
     "data": {
      "text/plain": [
       "17"
      ]
     },
     "execution_count": 10,
     "metadata": {},
     "output_type": "execute_result"
    }
   ],
   "source": [
    "#Esta es una expresión aritmética simple para multiplicar y luego sumar enteros\n",
    "(3*4)+5"
   ]
  },
  {
   "cell_type": "code",
   "execution_count": 11,
   "id": "1d4e3259-0dae-4aed-8819-295972ad0924",
   "metadata": {},
   "outputs": [
    {
     "data": {
      "text/plain": [
       "3.33"
      ]
     },
     "execution_count": 11,
     "metadata": {},
     "output_type": "execute_result"
    }
   ],
   "source": [
    "#Esto convertirá 200 minutos a horas diviendo por 60 \n",
    "round(200/60,2)"
   ]
  },
  {
   "cell_type": "markdown",
   "id": "0e3cd1b1-af85-49a8-821d-f7018ad1de86",
   "metadata": {},
   "source": [
    "## Autor\n",
    "Roselyn Rojas Rodríguez"
   ]
  }
 ],
 "metadata": {
  "kernelspec": {
   "display_name": "Python 3 (ipykernel)",
   "language": "python",
   "name": "python3"
  },
  "language_info": {
   "codemirror_mode": {
    "name": "ipython",
    "version": 3
   },
   "file_extension": ".py",
   "mimetype": "text/x-python",
   "name": "python",
   "nbconvert_exporter": "python",
   "pygments_lexer": "ipython3",
   "version": "3.12.11"
  }
 },
 "nbformat": 4,
 "nbformat_minor": 5
}
