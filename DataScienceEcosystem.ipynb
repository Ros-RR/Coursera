{
 "cells": [
  {
   "cell_type": "markdown",
   "id": "2615e014-73fe-46f1-89ec-bb8a6956c9b8",
   "metadata": {},
   "source": [
    "# Data Science Tools and Ecosystem"
   ]
  },
  {
   "cell_type": "markdown",
   "id": "dc443556-5742-45b5-b383-31b62f933428",
   "metadata": {},
   "source": [
    "In this notebook, the tools and ecosystems of data science are summarired. "
   ]
  },
  {
   "cell_type": "markdown",
   "id": "99efc18c-a993-4394-95e5-42a46fed5e49",
   "metadata": {},
   "source": [
    "**Objectives:**\n",
    "* Most used programming languages\n",
    "* Most used libraries\n",
    "* Open source tools\n",
    "* Arithmetic expressions"
   ]
  },
  {
   "cell_type": "markdown",
   "id": "ea3d978b-e631-41fc-b38c-3cdfc477a4e7",
   "metadata": {},
   "source": [
    "**Some of the most popular languages used by data scientists are:** \n",
    "1. R / R Studio\n",
    "2. Python\n",
    "3. SQL\n",
    "4. Julia\n",
    "5. Java\n",
    "6. Scala"
   ]
  },
  {
   "cell_type": "markdown",
   "id": "62b74a67-6e8a-4355-b2b7-5b4a365234fe",
   "metadata": {},
   "source": [
    "**Some commonly used libraries by data scientists are:** \n",
    "1. Data Analytics: *Pandas - NumPy*\n",
    "2. Visualization: *Matplotlib - Plotly - Ggplot*\n",
    "3. Machine Learning and Deep Learning: *XGBoost - LM - Caret*"
   ]
  },
  {
   "cell_type": "markdown",
   "id": "2661d17e-1b62-4da5-9c46-3177ec8cd6f7",
   "metadata": {},
   "source": [
    "|Data Science Tools|\n",
    "|--------|\n",
    "|R|\n",
    "|Python|\n",
    "|Jupyter|"
   ]
  },
  {
   "cell_type": "markdown",
   "id": "38186d51-fe14-402d-946e-43d6a6e30c55",
   "metadata": {},
   "source": [
    "### Below are some examples of evaluating arithmetic expressions in Python:"
   ]
  },
  {
   "cell_type": "code",
   "execution_count": 14,
   "id": "75880ba4-d1a9-46cc-84bc-d7e923900c87",
   "metadata": {},
   "outputs": [
    {
     "data": {
      "text/plain": [
       "17"
      ]
     },
     "execution_count": 14,
     "metadata": {},
     "output_type": "execute_result"
    }
   ],
   "source": [
    "#This is a simpl arithmetic expression to multiply and add integers\n",
    "(3*4)+5"
   ]
  },
  {
   "cell_type": "code",
   "execution_count": 15,
   "id": "1d4e3259-0dae-4aed-8819-295972ad0924",
   "metadata": {},
   "outputs": [
    {
     "data": {
      "text/plain": [
       "3.33"
      ]
     },
     "execution_count": 15,
     "metadata": {},
     "output_type": "execute_result"
    }
   ],
   "source": [
    "#This will convert 200 minutes to hours by dividing by 60 \n",
    "round(200/60,2)"
   ]
  },
  {
   "cell_type": "markdown",
   "id": "0e3cd1b1-af85-49a8-821d-f7018ad1de86",
   "metadata": {},
   "source": [
    "## Author\n",
    "Roselyn Rojas Rodríguez"
   ]
  }
 ],
 "metadata": {
  "kernelspec": {
   "display_name": "Python 3 (ipykernel)",
   "language": "python",
   "name": "python3"
  },
  "language_info": {
   "codemirror_mode": {
    "name": "ipython",
    "version": 3
   },
   "file_extension": ".py",
   "mimetype": "text/x-python",
   "name": "python",
   "nbconvert_exporter": "python",
   "pygments_lexer": "ipython3",
   "version": "3.12.11"
  }
 },
 "nbformat": 4,
 "nbformat_minor": 5
}
